{
  "nbformat": 4,
  "nbformat_minor": 0,
  "metadata": {
    "colab": {
      "provenance": []
    },
    "kernelspec": {
      "name": "python3",
      "display_name": "Python 3"
    },
    "language_info": {
      "name": "python"
    }
  },
  "cells": [
    {
      "cell_type": "markdown",
      "source": [
        "Linear Regression with single variable/feature:\n",
        "1. MODEL: \n",
        "$$ f_{\\mathbf{w},b}(\\mathbf{x}) =  wx + b \\tag{1}$$\n",
        "\n",
        "2. COST-FUNCTION: \n",
        "$$ J(\\mathbf{w},\\mathbf{b}) =  \\frac{1}{2m} \\sum\\limits_{i = 0}^{m-1} (f_{\\mathbf{w},b}(\\mathbf{x}^{(i)}) - y^{(i)})^2 \\tag{2}$$ \n",
        "where:\n",
        "$$ f_{\\mathbf{w},b}(\\mathbf{x}^{(i)}) = \\mathbf{w} \\cdot \\mathbf{x}^{(i)} + b  \\tag{3} $$\n",
        "\n",
        "3. GRADIENT-DESCENT:\n",
        "$$\\begin{align*} \\text{repeat}&\\text{ until convergence:} \\; \\lbrace \\newline\n",
        "\\;  w &= w -  \\alpha \\frac{\\partial J(w,b)}{\\partial w} \\tag{4}  \\; \\newline \n",
        " b &= b -  \\alpha \\frac{\\partial J(w,b)}{\\partial b}  \\newline \\rbrace\n",
        "\\end{align*}$$\n",
        "where, parameters $w$, $b$ are updated simultaneously.  \n",
        "\n",
        "4. THE GRADIENT IS DEFINED AS:\n",
        "$$\n",
        "\\begin{align}\n",
        "\\frac{\\partial J(w,b)}{\\partial w}  &= \\frac{1}{m} \\sum\\limits_{i = 0}^{m-1} (f_{w,b}(x^{(i)}) - y^{(i)})x^{(i)} \\tag{5}\\\\\n",
        "  \\frac{\\partial J(w,b)}{\\partial b}  &= \\frac{1}{m} \\sum\\limits_{i = 0}^{m-1} (f_{w,b}(x^{(i)}) - y^{(i)}) \\tag{6}\\\\\n",
        "\\end{align}\n",
        "$$\n",
        "\n",
        "Here, *simultaniously* means that you calculate the partial derivatives for all the parameters before updating any of the parameters."
      ],
      "metadata": {
        "id": "eJIurU0rqv7u"
      }
    },
    {
      "cell_type": "code",
      "execution_count": null,
      "metadata": {
        "id": "jQ5RaYG9qZk_"
      },
      "outputs": [],
      "source": [
        "# Import libraries\n",
        "import numpy as np\n",
        "import matplotlib.pyplot as plt"
      ]
    },
    {
      "cell_type": "code",
      "source": [
        "# Training data/ Input data\n",
        "x_train = np.array([1.0, 2.0])           # feature data-set\n",
        "y_train = np.array([300.0, 500.0])    # target data-set   "
      ],
      "metadata": {
        "id": "SqVwsc5FwLMw"
      },
      "execution_count": null,
      "outputs": []
    },
    {
      "cell_type": "code",
      "source": [
        "m = len(x_train)\n",
        "print(f\"Size of dataset: {m}\")"
      ],
      "metadata": {
        "colab": {
          "base_uri": "https://localhost:8080/"
        },
        "id": "dfQbqfC1w-oZ",
        "outputId": "a1d77d01-724e-4974-a485-3a847fc0a278"
      },
      "execution_count": null,
      "outputs": [
        {
          "output_type": "stream",
          "name": "stdout",
          "text": [
            "Size of dataset: 2\n"
          ]
        }
      ]
    },
    {
      "cell_type": "code",
      "source": [
        "# For a particular row, model is depicted by equation (1)\n",
        "# To compute the overall value, we sum the result obtained from each row\n",
        "def compute_model(x, w, b):\n",
        "  f_total = 0\n",
        "  for i in range (0, m):\n",
        "    f_total += (w * x[i]) + b\n",
        "  return f_total\n",
        "\n",
        "# Testing the function with sample values of 'w' and 'b'\n",
        "print(f\"f_total: {compute_model(x_train, 10.6, 20)}\") "
      ],
      "metadata": {
        "colab": {
          "base_uri": "https://localhost:8080/"
        },
        "id": "2akYb8MtzAvt",
        "outputId": "5c5cd43e-a2c3-47b8-db34-a27571ea1be3"
      },
      "execution_count": null,
      "outputs": [
        {
          "output_type": "stream",
          "name": "stdout",
          "text": [
            "f_total: 71.80000000000001\n"
          ]
        }
      ]
    },
    {
      "cell_type": "code",
      "source": [
        "# Computing the cost-function using equation (2)\n",
        "def compute_cost(x, y, w, b):\n",
        "  cost = 0\n",
        "  for i in range (0, m):\n",
        "    f_wb = (w * x[i]) + b\n",
        "    cost += (f_wb - y[i]) ** 2\n",
        "  total_cost = cost / (2 * m)\n",
        "  return total_cost\n",
        "\n",
        "# Testing the function with sample values\n",
        "print(f\"total_cost: {compute_cost(x_train, y_train, 10.6, 20)}\")\n"
      ],
      "metadata": {
        "colab": {
          "base_uri": "https://localhost:8080/"
        },
        "id": "KzXoYA4x1Rbp",
        "outputId": "5a96dc84-178c-45a7-c9c8-1d40bc3866c9"
      },
      "execution_count": null,
      "outputs": [
        {
          "output_type": "stream",
          "name": "stdout",
          "text": [
            "total_cost: 70768.45\n"
          ]
        }
      ]
    },
    {
      "cell_type": "code",
      "source": [
        "# Computing the gradient using equations (5) and (6)\n",
        "def compute_gradient(x, y, w, b):\n",
        "  dj_w = 0\n",
        "  dj_b = 0\n",
        "  for i in range (0,m):\n",
        "    f_wb = w * x[i] + b\n",
        "    # Simultaneously update both derivatives of w and b\n",
        "    dj_w_tmp = (f_wb - y[i]) * x[i]\n",
        "    dj_b_tmp = (f_wb - y[i])\n",
        "    dj_w = dj_w + dj_w_tmp\n",
        "    dj_b = dj_b + dj_b_tmp\n",
        "  dj_w = dj_w/m\n",
        "  dj_b = dj_b/m\n",
        "  return dj_w, dj_b\n",
        "\n",
        "# Testing the function with sample values\n",
        "dj_w, dj_b = compute_gradient(x_train, y_train, 100, 200)\n",
        "print(f\"dj_w = {dj_w} and dj_b = {dj_b}\")"
      ],
      "metadata": {
        "colab": {
          "base_uri": "https://localhost:8080/"
        },
        "id": "XCT0tFbO5zGx",
        "outputId": "6a0163e7-ea5d-49e9-bcfe-b7243122c53c"
      },
      "execution_count": null,
      "outputs": [
        {
          "output_type": "stream",
          "name": "stdout",
          "text": [
            "dj_w = -100.0 and dj_b = -50.0\n"
          ]
        }
      ]
    },
    {
      "cell_type": "code",
      "source": [
        "# Computing the gradient-descent to obtain values for w and b\n",
        "def gradient_descent(x, y, w, b, alpha):\n",
        "  no_of_iterations = 10000\n",
        "\n",
        "  for i in range (0, no_of_iterations):\n",
        "    # Repeating until convergence\n",
        "    dj_w, dj_b = compute_gradient(x, y, w, b)     \n",
        "    w = w - (alpha * dj_w)\n",
        "    b = b - (alpha * dj_b)\n",
        "  return w, b"
      ],
      "metadata": {
        "id": "FXRs_kJVnpV-"
      },
      "execution_count": null,
      "outputs": []
    },
    {
      "cell_type": "code",
      "source": [
        "# Starting by supplying initial values for w, b and alpha\n",
        "w_init = 0\n",
        "b_init = 0\n",
        "alpha = 1.0e-2\n",
        "w_final, b_final = gradient_descent(x_train, y_train, w_init, b_init, alpha)\n",
        "print(f\"w = {w_final} and b = {b_final}\")"
      ],
      "metadata": {
        "colab": {
          "base_uri": "https://localhost:8080/"
        },
        "id": "ghtXA8Ibp9Q5",
        "outputId": "a11a4cfc-aded-449e-9da6-35f70e214f4a"
      },
      "execution_count": null,
      "outputs": [
        {
          "output_type": "stream",
          "name": "stdout",
          "text": [
            "w = 65000.0 and b = 40000.0\n"
          ]
        }
      ]
    },
    {
      "cell_type": "code",
      "source": [
        "# Making Predictions\n",
        "print(f\"1000 sqft house prediction {w_final*1.0 + b_final:0.1f} Thousand dollars\")\n",
        "print(f\"1200 sqft house prediction {w_final*1.2 + b_final:0.1f} Thousand dollars\")\n",
        "print(f\"2000 sqft house prediction {w_final*2.0 + b_final:0.1f} Thousand dollars\")"
      ],
      "metadata": {
        "colab": {
          "base_uri": "https://localhost:8080/"
        },
        "id": "PulqSyvRrFEi",
        "outputId": "e778af30-c50f-4a9a-9765-db0a52de0db1"
      },
      "execution_count": null,
      "outputs": [
        {
          "output_type": "stream",
          "name": "stdout",
          "text": [
            "1000 sqft house prediction 105000.0 Thousand dollars\n",
            "1200 sqft house prediction 118000.0 Thousand dollars\n",
            "2000 sqft house prediction 170000.0 Thousand dollars\n"
          ]
        }
      ]
    }
  ]
}